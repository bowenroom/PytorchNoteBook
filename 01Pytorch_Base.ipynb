{
 "cells": [
  {
   "cell_type": "code",
   "execution_count": 1,
   "metadata": {
    "ExecuteTime": {
     "end_time": "2018-09-09T12:35:10.744736Z",
     "start_time": "2018-09-09T12:35:10.482598Z"
    }
   },
   "outputs": [
    {
     "data": {
      "text/plain": [
       "'0.4.0'"
      ]
     },
     "execution_count": 1,
     "metadata": {},
     "output_type": "execute_result"
    }
   ],
   "source": [
    "import torch as t\n",
    "import numpy as np\n",
    "t.__version__"
   ]
  },
  {
   "cell_type": "markdown",
   "metadata": {},
   "source": [
    "# Base pytorch manipulation"
   ]
  },
  {
   "cell_type": "code",
   "execution_count": 2,
   "metadata": {
    "ExecuteTime": {
     "end_time": "2018-09-09T12:35:13.491431Z",
     "start_time": "2018-09-09T12:35:13.482139Z"
    }
   },
   "outputs": [
    {
     "name": "stdout",
     "output_type": "stream",
     "text": [
      "[[4 9 0]\n",
      " [1 4 0]\n",
      " [1 0 1]] \n",
      " [[ 7 12  0]\n",
      " [ 4  7  0]\n",
      " [ 3  3  1]]\n"
     ]
    }
   ],
   "source": [
    "a = [[2,3,0],[1,2,0],[1,0,1]] # list type\n",
    "b = np.multiply(a,a)\n",
    "c = np.dot(a,a) # matrix multiply 点乘\n",
    "d = np.array(a)*np.array(a) # element-wise corresponding multiply 对应相乘\n",
    "# a*a is wrong\n",
    "print(b,'\\n',c)\n"
   ]
  },
  {
   "cell_type": "code",
   "execution_count": 3,
   "metadata": {
    "ExecuteTime": {
     "end_time": "2018-09-09T12:35:18.012543Z",
     "start_time": "2018-09-09T12:35:18.008149Z"
    }
   },
   "outputs": [],
   "source": [
    "a = t.FloatTensor(a) # create a tensor\n",
    "b = t.from_numpy(b) # transform from numpy to tensor type\n",
    "ta = t.mm(a,a) # np.dot(a,a) matrix multiply\n",
    "# tb = torch.dot(a,a)\n"
   ]
  },
  {
   "cell_type": "code",
   "execution_count": 7,
   "metadata": {
    "ExecuteTime": {
     "end_time": "2018-09-09T12:37:11.056942Z",
     "start_time": "2018-09-09T12:37:11.052430Z"
    }
   },
   "outputs": [],
   "source": [
    "b = b.numpy()# transform from tensor to numpy type"
   ]
  },
  {
   "cell_type": "code",
   "execution_count": 8,
   "metadata": {
    "ExecuteTime": {
     "end_time": "2018-09-09T12:37:16.406614Z",
     "start_time": "2018-09-09T12:37:16.399866Z"
    }
   },
   "outputs": [
    {
     "data": {
      "text/plain": [
       "array([[4, 9, 0],\n",
       "       [1, 4, 0],\n",
       "       [1, 0, 1]])"
      ]
     },
     "execution_count": 8,
     "metadata": {},
     "output_type": "execute_result"
    }
   ],
   "source": [
    "b"
   ]
  },
  {
   "cell_type": "code",
   "execution_count": 49,
   "metadata": {
    "ExecuteTime": {
     "end_time": "2018-09-09T13:07:49.414215Z",
     "start_time": "2018-09-09T13:07:49.406342Z"
    }
   },
   "outputs": [
    {
     "data": {
      "text/plain": [
       "tensor([[-4.3490e+18,  4.5696e-41],\n",
       "        [ 4.2543e-38,  0.0000e+00]])"
      ]
     },
     "execution_count": 49,
     "metadata": {},
     "output_type": "execute_result"
    }
   ],
   "source": [
    "d = t.Tensor(2,2) # create a tensor with a shape of 2*2 without initialization\n",
    "d"
   ]
  },
  {
   "cell_type": "code",
   "execution_count": 50,
   "metadata": {
    "ExecuteTime": {
     "end_time": "2018-09-09T13:07:49.421338Z",
     "start_time": "2018-09-09T13:07:49.416199Z"
    }
   },
   "outputs": [
    {
     "data": {
      "text/plain": [
       "tensor([[[ 2.,  7.,  8.,  4.,  2.],\n",
       "         [ 8.,  4.,  6.,  8.,  7.],\n",
       "         [ 6.,  3.,  7.,  2.,  4.]]])"
      ]
     },
     "execution_count": 50,
     "metadata": {},
     "output_type": "execute_result"
    }
   ],
   "source": [
    "d = t.randint(1,9,(1,3,5)) # have an integer random initializationb which requires the grad function\n",
    "d"
   ]
  },
  {
   "cell_type": "code",
   "execution_count": 51,
   "metadata": {
    "ExecuteTime": {
     "end_time": "2018-09-09T13:07:49.431681Z",
     "start_time": "2018-09-09T13:07:49.426808Z"
    }
   },
   "outputs": [
    {
     "name": "stdout",
     "output_type": "stream",
     "text": [
      "torch.Size([1, 3, 5])\n",
      "torch.Size([1, 3, 5])\n",
      "5\n"
     ]
    }
   ],
   "source": [
    "print(d.shape)\n",
    "print(d.size())\n",
    "print(d.size(2)) # specialize the axis "
   ]
  },
  {
   "cell_type": "code",
   "execution_count": 52,
   "metadata": {
    "ExecuteTime": {
     "end_time": "2018-09-09T13:07:49.442055Z",
     "start_time": "2018-09-09T13:07:49.434993Z"
    }
   },
   "outputs": [
    {
     "name": "stdout",
     "output_type": "stream",
     "text": [
      "tensor([[[ 1,  1,  1,  1,  1],\n",
      "         [ 1,  1,  1,  1,  1],\n",
      "         [ 1,  1,  1,  1,  1]]], dtype=torch.uint8)\n"
     ]
    }
   ],
   "source": [
    "e = t.randint(1,9,(1,3,5)) # have an integer random initializationb which requires the grad function\n",
    "print(d+e == t.add(d,e)) # the same method for the sum"
   ]
  },
  {
   "cell_type": "code",
   "execution_count": 53,
   "metadata": {
    "ExecuteTime": {
     "end_time": "2018-09-09T13:07:49.450277Z",
     "start_time": "2018-09-09T13:07:49.444993Z"
    }
   },
   "outputs": [
    {
     "name": "stdout",
     "output_type": "stream",
     "text": [
      "tensor([[[  3.,  10.,  16.,  11.,   6.],\n",
      "         [ 13.,   8.,  11.,  15.,  12.],\n",
      "         [ 12.,  11.,  15.,   9.,  11.]]])\n"
     ]
    }
   ],
   "source": [
    "print(d+e)"
   ]
  },
  {
   "cell_type": "code",
   "execution_count": 55,
   "metadata": {
    "ExecuteTime": {
     "end_time": "2018-09-09T13:08:42.300115Z",
     "start_time": "2018-09-09T13:08:42.292932Z"
    }
   },
   "outputs": [
    {
     "name": "stdout",
     "output_type": "stream",
     "text": [
      "tensor([[[  4.,  13.,  24.,  18.,  10.],\n",
      "         [ 18.,  12.,  16.,  22.,  17.],\n",
      "         [ 18.,  19.,  23.,  16.,  18.]]])\n"
     ]
    }
   ],
   "source": [
    "print(d.add_(e)) # in_place operation which is not suitable for the 'require_grad'"
   ]
  },
  {
   "cell_type": "code",
   "execution_count": 65,
   "metadata": {
    "ExecuteTime": {
     "end_time": "2018-09-09T13:25:43.982762Z",
     "start_time": "2018-09-09T13:25:43.976252Z"
    }
   },
   "outputs": [],
   "source": [
    "# t.tensor is different from t.Tensor,torch.Tensor\n",
    "#has been splitted into torch.tensor and torch.empty\n",
    "a = t.tensor([1,2]) # accept list\n",
    "a = t.tensor(1) # scalar\n",
    "a = t.Tensor(2,3) # Tensor(only the shape)\n",
    "a = t.empty(2,3) # be the same\n",
    "a = a.numpy()"
   ]
  },
  {
   "cell_type": "code",
   "execution_count": 140,
   "metadata": {
    "ExecuteTime": {
     "end_time": "2018-09-09T14:01:56.130074Z",
     "start_time": "2018-09-09T14:01:56.122949Z"
    }
   },
   "outputs": [
    {
     "data": {
      "text/plain": [
       "array([ 0,  1,  2,  3,  4,  5,  6,  7,  8,  9, 10, 11])"
      ]
     },
     "execution_count": 140,
     "metadata": {},
     "output_type": "execute_result"
    }
   ],
   "source": [
    "a = np.arange(0,12)\n",
    "a"
   ]
  },
  {
   "cell_type": "code",
   "execution_count": 127,
   "metadata": {
    "ExecuteTime": {
     "end_time": "2018-09-09T13:53:19.061709Z",
     "start_time": "2018-09-09T13:53:19.052257Z"
    }
   },
   "outputs": [
    {
     "name": "stdout",
     "output_type": "stream",
     "text": [
      "[9 8 7 6 5 4 3 2 1 0]\n",
      "[11 10]\n"
     ]
    }
   ],
   "source": [
    "'''a[start:end] # items start through end-1\n",
    "a[start:]    # items start through the rest of the array\n",
    "a[:end]      # items from the beginning through end-1,the end position is ommitted\n",
    "a[:]         # a copy of the whole array\n",
    "There is also the step value, which can be used with any of the above:\n",
    "\n",
    "a[start:end:step] # start through not past end, by step\n",
    "The key point to remember is that the :end value represents the first value that is not in the selected slice. So, the difference beween end and start is the number of elements selected (if step is 1, the default).\n",
    "\n",
    "The other feature is that start or end may be a negative number, which means it counts from the end of the array instead of the beginning. So:\n",
    "\n",
    "a[-1]    # last item in the array\n",
    "a[-2:]   # last two items in the array\n",
    "a[:-2]   # everything except the last two items\n",
    "Similarly, step may be a negative number:\n",
    "\n",
    "a[::-1]    # all items in the array, reversed\n",
    "a[1::-1]   # the first two items, reversed\n",
    "a[:-3:-1]  # the last two items, reversed\n",
    "a[-3::-1]  # everything except the last two items, reversed'''\n",
    "print(a[-3::-1])\n",
    "print(a[:-3:-1])"
   ]
  },
  {
   "cell_type": "code",
   "execution_count": 141,
   "metadata": {
    "ExecuteTime": {
     "end_time": "2018-09-09T14:01:59.333864Z",
     "start_time": "2018-09-09T14:01:59.329095Z"
    }
   },
   "outputs": [
    {
     "name": "stdout",
     "output_type": "stream",
     "text": [
      "tensor([  0,   1,   2,   3,   4,   5,   6,   7,   8,   9,  10,  11]) tensor([  0,   1,   2,   3,   4,   5,   6,   7,   8,   9,  10,  11])\n"
     ]
    }
   ],
   "source": [
    "a = t.from_numpy(a)\n",
    "b = a.detach()\n",
    "print(a,b)"
   ]
  },
  {
   "cell_type": "code",
   "execution_count": 143,
   "metadata": {
    "ExecuteTime": {
     "end_time": "2018-09-09T14:06:25.224155Z",
     "start_time": "2018-09-09T14:06:22.714373Z"
    }
   },
   "outputs": [],
   "source": [
    "dev = t.device('cuda'if t.cuda.is_available() else 'cpu')\n",
    "a = a.to(dev)\n",
    "b = b.to(dev)"
   ]
  },
  {
   "cell_type": "code",
   "execution_count": 145,
   "metadata": {
    "ExecuteTime": {
     "end_time": "2018-09-09T14:06:44.191498Z",
     "start_time": "2018-09-09T14:06:44.183543Z"
    }
   },
   "outputs": [
    {
     "data": {
      "text/plain": [
       "(tensor([  0,   1,   2,   3,   4,   5,   6,   7,   8,   9,  10,  11], device='cuda:0'),\n",
       " tensor([  0,   1,   2,   3,   4,   5,   6,   7,   8,   9,  10,  11], device='cuda:0'))"
      ]
     },
     "execution_count": 145,
     "metadata": {},
     "output_type": "execute_result"
    }
   ],
   "source": [
    "a,b"
   ]
  },
  {
   "cell_type": "markdown",
   "metadata": {},
   "source": [
    "# grad manipulation"
   ]
  },
  {
   "cell_type": "code",
   "execution_count": null,
   "metadata": {},
   "outputs": [],
   "source": []
  }
 ],
 "metadata": {
  "kernelspec": {
   "display_name": "Python 3",
   "language": "python",
   "name": "python3"
  },
  "language_info": {
   "codemirror_mode": {
    "name": "ipython",
    "version": 3
   },
   "file_extension": ".py",
   "mimetype": "text/x-python",
   "name": "python",
   "nbconvert_exporter": "python",
   "pygments_lexer": "ipython3",
   "version": "3.6.6"
  },
  "toc": {
   "nav_menu": {},
   "number_sections": true,
   "sideBar": true,
   "skip_h1_title": false,
   "title_cell": "Table of Contents",
   "title_sidebar": "Contents",
   "toc_cell": false,
   "toc_position": {},
   "toc_section_display": true,
   "toc_window_display": false
  },
  "varInspector": {
   "cols": {
    "lenName": 16,
    "lenType": 16,
    "lenVar": 40
   },
   "kernels_config": {
    "python": {
     "delete_cmd_postfix": "",
     "delete_cmd_prefix": "del ",
     "library": "var_list.py",
     "varRefreshCmd": "print(var_dic_list())"
    },
    "r": {
     "delete_cmd_postfix": ") ",
     "delete_cmd_prefix": "rm(",
     "library": "var_list.r",
     "varRefreshCmd": "cat(var_dic_list()) "
    }
   },
   "types_to_exclude": [
    "module",
    "function",
    "builtin_function_or_method",
    "instance",
    "_Feature"
   ],
   "window_display": false
  }
 },
 "nbformat": 4,
 "nbformat_minor": 2
}
